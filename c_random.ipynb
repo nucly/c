{
 "cells": [
  {
   "cell_type": "raw",
   "metadata": {},
   "source": [
    "Static global variables and functions cannot be accessed outside of the file.\n",
    "Static variables keep their value even after the functions ends and get initialized only once."
   ]
  },
  {
   "cell_type": "code",
   "execution_count": null,
   "metadata": {},
   "outputs": [],
   "source": [
    "static int x; // static global variable"
   ]
  },
  {
   "cell_type": "code",
   "execution_count": null,
   "metadata": {},
   "outputs": [],
   "source": [
    "static\n",
    "void print_num(void) // static function can't be accessed from another file\n",
    "{\n",
    "    static int y = 0; // static variable inside the function is kept in the memory\n",
    "    printf(\"%d\\n\", y);\n",
    "    y = y + 1;\n",
    "}\n",
    "\n",
    "print_num();\n",
    "print_num();\n",
    "print_num();"
   ]
  },
  {
   "cell_type": "code",
   "execution_count": 12,
   "metadata": {},
   "outputs": [
    {
     "name": "stdout",
     "output_type": "stream",
     "text": [
      "sialalalatrulululu"
     ]
    }
   ],
   "source": [
    "#include <stdio.h>\n",
    "int main(void) \n",
    "{\n",
    "    // you can create strings in few lines\n",
    "    char *p = \"sialalala\"\n",
    "        \"trulululu\";\n",
    "    \n",
    "    printf(\"%s\", p);\n",
    "}"
   ]
  },
  {
   "cell_type": "code",
   "execution_count": 24,
   "metadata": {},
   "outputs": [
    {
     "name": "stdout",
     "output_type": "stream",
     "text": [
      "2\n",
      "2.123457\n",
      "5.000000\n"
     ]
    }
   ],
   "source": [
    "#include <stdio.h>\n",
    "int main(void) \n",
    "{\n",
    "    int x, d = 5;\n",
    "    float i, c = 3.145;\n",
    "    float y = 2.14;\n",
    "    double j = 2.12345674444;\n",
    "    \n",
    "    x = y;\n",
    "    i = j;\n",
    "    \n",
    "    printf(\"%d\\n\", x);\n",
    "    printf(\"%f\\n\", i);\n",
    "    printf(\"%f\\n\", (float)d);\n",
    "    \n",
    "}"
   ]
  },
  {
   "cell_type": "code",
   "execution_count": 30,
   "metadata": {},
   "outputs": [
    {
     "name": "stdout",
     "output_type": "stream",
     "text": [
      "5026\n"
     ]
    }
   ],
   "source": [
    "#include <stdio.h>\n",
    "\n",
    "unsigned long int next = 1;\n",
    "\n",
    "int rand(void) \n",
    "{\n",
    "    next = next * 1103515245 + 12345;\n",
    "    return (unsigned int)(next/65536) % 32768;\n",
    "}\n",
    "\n",
    "void srand(unsigned int seed)\n",
    "{\n",
    "    next = seed;\n",
    "}\n",
    "\n",
    "int main(void) \n",
    "{\n",
    "    srand(-25);\n",
    "    printf(\"%d\\n\", rand());\n",
    "}"
   ]
  },
  {
   "cell_type": "code",
   "execution_count": null,
   "metadata": {},
   "outputs": [],
   "source": [
    "#include <stdio.h>\n",
    "int main(void) \n",
    "{\n",
    "    int j = 0;\n",
    "    int a[] = {1,2,3,4,0};\n",
    "    int c[100] = {0};\n",
    "    for (int i = 0; a[i] != 0; i++) {\n",
    "        c[++j] = i; \n",
    "        // with c[j++] output would be 0123\n",
    "        printf(\"%d\\n\", c[i]);\n",
    "    }\n",
    "}"
   ]
  },
  {
   "cell_type": "code",
   "execution_count": 3,
   "metadata": {},
   "outputs": [
    {
     "name": "stdout",
     "output_type": "stream",
     "text": [
      "a - x\n",
      "a - x\n",
      "a - x\n",
      "b - x\n",
      "d - a\n",
      "    d\n",
      "xxxxab\n"
     ]
    }
   ],
   "source": [
    "#include <stdio.h>\n",
    "#include <string.h>\n",
    "\n",
    "// Removes all characters in s1 if any of them are in s2\n",
    "void squeeze(char s1[], char s2[]) {\n",
    "   \n",
    "    int i, j;\n",
    "    i = j = 0;\n",
    "    for (i = 0; i < strlen(s1); i++) {\n",
    "        printf(\"%c - %c\\n\", s1[i], s2[i]);\n",
    "        for (j = 0; j < strlen(s2); j++) {\n",
    "           if(s1[i] == s2[j]) {\n",
    "               s1[i] = ' ';\n",
    "           } \n",
    "        }\n",
    "    }\n",
    "}\n",
    "\n",
    "int main(void) \n",
    "{\n",
    "    char s1[] = \"aaabd\"; \n",
    "    char s2[] = \"xxxxab\";\n",
    "    squeeze(s1, s2);\n",
    "    \n",
    "    printf(\"%s\\n\", s1);\n",
    "    printf(\"%s\\n\", s2);\n",
    "}"
   ]
  },
  {
   "cell_type": "code",
   "execution_count": 6,
   "metadata": {},
   "outputs": [
    {
     "name": "stdout",
     "output_type": "stream",
     "text": [
      "3"
     ]
    }
   ],
   "source": [
    "#include <stdio.h>\n",
    "\n",
    "double ret_double(void)\n",
    "{\n",
    "    return 3.14;\n",
    "}\n",
    "\n",
    "int main(void) \n",
    "{\n",
    "    int i;\n",
    "    double ret_double(void);\n",
    "    i = ret_double();\n",
    "    printf(\"%d\", i);\n",
    "}"
   ]
  },
  {
   "cell_type": "code",
   "execution_count": null,
   "metadata": {},
   "outputs": [],
   "source": [
    "#include <stdio.h>\n",
    "\n",
    "int main(void)\n",
    "{\n",
    "    \n",
    "}"
   ]
  }
 ],
 "metadata": {
  "kernelspec": {
   "display_name": "C",
   "language": "c",
   "name": "c"
  },
  "language_info": {
   "file_extension": ".c",
   "mimetype": "text/plain",
   "name": "c"
  }
 },
 "nbformat": 4,
 "nbformat_minor": 4
}
