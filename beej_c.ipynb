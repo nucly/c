{
 "cells": [
  {
   "cell_type": "code",
   "execution_count": null,
   "metadata": {},
   "outputs": [],
   "source": [
    "int i = 5;\n",
    "int *p = &i;\n",
    "\n",
    "printf(\"%zu\\n\", sizeof(int));\n",
    "printf(\"%zu\\n\", sizeof(float));\n",
    "printf(\"%zu\\n\", sizeof(double));\n",
    "printf(\"%zu\\n\", sizeof(char));\n",
    "\n",
    "printf(\"%zu\\n\", sizeof(i));\n",
    "printf(\"%zu\\n\", sizeof(p));"
   ]
  },
  {
   "cell_type": "code",
   "execution_count": null,
   "metadata": {},
   "outputs": [],
   "source": [
    "void increment(int *p)\n",
    "{\n",
    "    *p = *p + 1;\n",
    "}\n",
    "\n",
    "int i = 10;\n",
    "int *j = &i;\n",
    "\n",
    "increment(j);\n",
    "printf(\"i is %d\\n\", i);"
   ]
  },
  {
   "cell_type": "code",
   "execution_count": null,
   "metadata": {},
   "outputs": [],
   "source": [
    "int i = 0;\n",
    "scanf(\"%d\", &i); \n",
    "printf(\"i is %d\\n\", i);"
   ]
  },
  {
   "cell_type": "code",
   "execution_count": null,
   "metadata": {},
   "outputs": [],
   "source": [
    "int i;\n",
    "int a[5] = {22, 73, 55, 33, 44};\n",
    "int t[100] = {0}; // entire array will have 0's\n",
    "int c[] = {33, 44, 33}; // C will compute the size automatically\n",
    "\n",
    "for (i = 0; i < 5; i++) {\n",
    "        printf(\"%d\\n\", a[i]);\n",
    "    }\n"
   ]
  },
  {
   "cell_type": "markdown",
   "metadata": {},
   "source": [
    ">C doesn’t stop you from accessing arrays out of bounds. It might not even warn you. Last item of an array will be \\0."
   ]
  },
  {
   "cell_type": "code",
   "execution_count": null,
   "metadata": {},
   "outputs": [],
   "source": [
    "int c[] = {1,2,3,4,5};\n",
    "for (int i = 0; i < 10; ++i) {\n",
    "    printf(\"%d\\n\", c[i]);\n",
    "}\n"
   ]
  },
  {
   "cell_type": "code",
   "execution_count": null,
   "metadata": {},
   "outputs": [],
   "source": [
    "\n",
    "int row, col;\n",
    "\n",
    "int a[2][5] = {\n",
    "    {0,1,2,3,4},\n",
    "    {5,6,7,8,9}\n",
    "};\n",
    "\n",
    "for (row = 0; row < 2; row++) {\n",
    "    for (col = 0; col < 5; col++) {\n",
    "        printf(\"(%d, %d) = %d\\n\", row, col, a[row][col]);\n",
    "    }\n",
    "}"
   ]
  },
  {
   "cell_type": "code",
   "execution_count": null,
   "metadata": {},
   "outputs": [],
   "source": [
    "int t[] = {1,2,3,4,5};\n",
    "int *p;\n",
    "//p = &t[0];\n",
    "p = t;\n",
    "printf(\"%d\\n\", *p);"
   ]
  },
  {
   "cell_type": "markdown",
   "metadata": {},
   "source": [
    "> all of the below are identical but the first one is the most common"
   ]
  },
  {
   "cell_type": "code",
   "execution_count": null,
   "metadata": {},
   "outputs": [],
   "source": [
    "void times2(int *a, int len)\n",
    "void times3(int a[], int len)\n",
    "void times4(int a[5], int len)"
   ]
  },
  {
   "cell_type": "markdown",
   "metadata": {},
   "source": [
    ">Passing multidimensional array to the function has to have all dimensions (except the first one)"
   ]
  },
  {
   "cell_type": "code",
   "execution_count": null,
   "metadata": {},
   "outputs": [],
   "source": [
    "void print_2D_array(int a[2][3])\n",
    "oid print_2D_array(int a[][3])\n",
    "// both the same`\n",
    "    "
   ]
  },
  {
   "cell_type": "code",
   "execution_count": null,
   "metadata": {},
   "outputs": [],
   "source": [
    "char *s = \"Hello World\";\n",
    "s[0] = 'z'; // won't work, it's a ponter to a contant string\n",
    "char s[] = \"Hello World\";\n",
    "s[0] = 'L'; // you can change it as much as you want to"
   ]
  },
  {
   "cell_type": "code",
   "execution_count": null,
   "metadata": {},
   "outputs": [],
   "source": [
    "char s[] = \"Hello World\";\n",
    "char *t;\n",
    "    \n",
    "t = s; // copy of a pointer\n",
    "        \n",
    "t[0] = 'z';\n",
    "    \n",
    "printf(\"%s\\n\", s);\n"
   ]
  },
  {
   "cell_type": "markdown",
   "metadata": {},
   "source": [
    "#### STRUCT"
   ]
  },
  {
   "cell_type": "code",
   "execution_count": null,
   "metadata": {},
   "outputs": [],
   "source": [
    "struct car {\n",
    "    char *name;\n",
    "    float price;\n",
    "    int speed;\n",
    "};\n",
    "\n",
    "void set_price(struct car *c, float new_price) \n",
    "{\n",
    "    // c.price = new_price; <<< this won't work, dot operator works only on structs\n",
    "    (*c).price = new_price;\n",
    "    // OR use arrow operator\n",
    "    c->price = new_price;\n",
    "}\n",
    "\n",
    "struct car saturn;\n",
    "saturn.name = \"Saturn SL/2\";\n",
    "saturn.price = 15999.99;\n",
    "saturn.speed = 175;\n",
    "    \n",
    "printf(\"Name: %s\\n\", saturn.name);\n",
    "    \n",
    "set_price(&saturn, 5000.0);\n",
    "printf(\"New price: %f\\n\", saturn.price);\n"
   ]
  },
  {
   "cell_type": "code",
   "execution_count": null,
   "metadata": {},
   "outputs": [],
   "source": [
    "    // you can also do this\n",
    "     struct car saturn = {\"Saturn SL/2\", 160000, 175};\n",
    "    // or this\n",
    "     struct car saturn = {.speed = 172, .name = \"Saturn\"};"
   ]
  },
  {
   "cell_type": "markdown",
   "metadata": {},
   "source": [
    "#### TYPEDEF TO MAKE NEW NAMES TO EXISTING TYPES"
   ]
  },
  {
   "cell_type": "code",
   "execution_count": null,
   "metadata": {},
   "outputs": [],
   "source": [
    "typedef int NUMBER;\n",
    "\n",
    "NUMBER x = 10;"
   ]
  },
  {
   "cell_type": "markdown",
   "metadata": {},
   "source": [
    "#### CHANGING NAME OF A STRUCT"
   ]
  },
  {
   "cell_type": "code",
   "execution_count": null,
   "metadata": {},
   "outputs": [],
   "source": [
    "typedef struct animal animal;\n",
    "struct animal y;\n",
    "animal z; // same as above"
   ]
  },
  {
   "cell_type": "code",
   "execution_count": null,
   "metadata": {},
   "outputs": [],
   "source": [
    "// very common\n",
    "typdef struct animal {\n",
    "    char *name;\n",
    "    int leg_count, speed;\n",
    "} animal;\n",
    "\n",
    "struct animal y;\n",
    "animal z; // same as above"
   ]
  },
  {
   "cell_type": "code",
   "execution_count": null,
   "metadata": {},
   "outputs": [],
   "source": [
    "// ANNONYMOUS STRUCT\n",
    "typedef struct {\n",
    "    char *name;\n",
    "    int leg_count, speed;\n",
    "} animal;\n",
    "\n",
    "typedef struct {\n",
    "    int x, y;\n",
    "} point;\n",
    "\n",
    "point p = {.x=20, .y=40};"
   ]
  },
  {
   "cell_type": "code",
   "execution_count": null,
   "metadata": {},
   "outputs": [],
   "source": [
    "// type that is a pointer\n",
    "typedef int *intptr;\n",
    "\n",
    "int a = 10;\n",
    "intptr x = &a;"
   ]
  },
  {
   "cell_type": "code",
   "execution_count": null,
   "metadata": {},
   "outputs": [],
   "source": [
    "// typedef array\n",
    "typedef int five_ints[5];\n",
    "five_ints x = {1,2,3,4};"
   ]
  },
  {
   "cell_type": "markdown",
   "metadata": {},
   "source": [
    "#### ADDING TO POINTERS"
   ]
  },
  {
   "cell_type": "code",
   "execution_count": null,
   "metadata": {},
   "outputs": [],
   "source": [
    "int a[5] = {1,2,3,4};\n",
    "int *p = a;\n",
    "    \n",
    "printf(\"%d\\n\", *p);\n",
    "printf(\"%d\\n\", *(p + 1));\n",
    "    \n",
    "for (int i = 0; i < 5; i++) {\n",
    "    printf(\"a[%d] = %d\\n\", i, *(p + i));\n",
    "}"
   ]
  },
  {
   "cell_type": "markdown",
   "metadata": {},
   "source": [
    "#### CHANGING POINTERS"
   ]
  },
  {
   "cell_type": "code",
   "execution_count": null,
   "metadata": {},
   "outputs": [],
   "source": [
    "int a[] = {1,2,3,4,9999};\n",
    "int *p = a;\n",
    "    \n",
    "while(*p != 9999) {\n",
    "    printf(\"%d\\n\", *p);\n",
    "    p++;\n",
    "}"
   ]
  },
  {
   "cell_type": "markdown",
   "metadata": {},
   "source": [
    "#### SUBTRACTING POINTERS"
   ]
  },
  {
   "cell_type": "code",
   "execution_count": null,
   "metadata": {},
   "outputs": [],
   "source": [
    "int my_strlen(char const *s)\n",
    "{\n",
    "    char const *p = s;\n",
    "    \n",
    "    while(*p != '\\0')\n",
    "        p++;\n",
    "    \n",
    "    return p - s;\n",
    "}\n",
    "\n",
    "char const *t = \"Hello\";\n",
    "// char text[] = \"Hello\";\n",
    "\n",
    "printf(\"%d\\n\", my_strlen(t));\n"
   ]
  },
  {
   "cell_type": "markdown",
   "metadata": {},
   "source": [
    "#### ARRAY/POINTER EQUIVALENCE"
   ]
  },
  {
   "cell_type": "code",
   "execution_count": null,
   "metadata": {},
   "outputs": [],
   "source": [
    "a[b] == *(a + b)"
   ]
  },
  {
   "cell_type": "markdown",
   "metadata": {},
   "source": [
    ">If you have a below function with an pointer as an argument you can either pass a pointer or an array."
   ]
  },
  {
   "cell_type": "code",
   "execution_count": null,
   "metadata": {},
   "outputs": [],
   "source": [
    "int my_strlen(char const *s);\n",
    "\n",
    "char s[] = \"Fish\";\n",
    "char const *t = \"Dog\";\n",
    "\n",
    "my_strlen(s);\n",
    "my_strlen(t);"
   ]
  },
  {
   "cell_type": "markdown",
   "metadata": {},
   "source": [
    "#### VOID POINTER "
   ]
  },
  {
   "cell_type": "markdown",
   "metadata": {},
   "source": [
    "Void pointer cannot be dereferenced!!! You have to convert them to other types."
   ]
  },
  {
   "cell_type": "code",
   "execution_count": null,
   "metadata": {},
   "outputs": [],
   "source": [
    "int a[] = {1,2,3};\n",
    "int b[3];\n",
    "    \n",
    "memcpy(b, a, 3 * sizeof(int));\n",
    "    \n",
    "printf(\"%d\\n\", b[1]);"
   ]
  },
  {
   "cell_type": "code",
   "execution_count": null,
   "metadata": {},
   "outputs": [],
   "source": [
    "char a = 'X';  // A single char\n",
    "    \n",
    "void *p = &a;  // p points to the 'X'\n",
    "char *q = p;   // q also points to the 'X'\n",
    "    \n",
    "//printf(\"%c\\n\", *p);  // ERROR--cannot dereference void*!\n",
    "printf(\"%c\\n\", *q);  // Prints \"X\""
   ]
  },
  {
   "cell_type": "markdown",
   "metadata": {},
   "source": [
    "# MEMORY ALLOC"
   ]
  },
  {
   "cell_type": "code",
   "execution_count": null,
   "metadata": {},
   "outputs": [],
   "source": []
  },
  {
   "cell_type": "code",
   "execution_count": null,
   "metadata": {},
   "outputs": [],
   "source": []
  }
 ],
 "metadata": {
  "kernelspec": {
   "display_name": "C++17",
   "language": "C++17",
   "name": "xcpp17"
  },
  "language_info": {
   "codemirror_mode": "text/x-c++src",
   "file_extension": ".cpp",
   "mimetype": "text/x-c++src",
   "name": "c++",
   "version": "17"
  }
 },
 "nbformat": 4,
 "nbformat_minor": 4
}