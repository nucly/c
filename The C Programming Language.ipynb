{
 "cells": [
  {
   "cell_type": "markdown",
   "metadata": {},
   "source": [
    "### MACRO SUBSTITUTION"
   ]
  },
  {
   "cell_type": "code",
   "execution_count": null,
   "metadata": {},
   "outputs": [],
   "source": [
    "#define forever                  for (;;)\n",
    "#define maxAB(A, B)              ((A) > (B) ? (A) : (B))\n",
    "#define square(x)                x * x // wrong\n",
    "#define just_print(expr)         printf(#expr \" = %d\\n\", expr) // #expr will be converted to string and concatinated\n",
    "#define new_paste(front, back)   front ## back // concatination of the arguments\n",
    "\n",
    "int p = 1, q = 3;\n",
    "int x = maxAB(p, q++);\n",
    "printf(\"%d\\n\", x);\n",
    "\n",
    "int y = square(x + 1); // wrong\n",
    "printf(\"%d\\n\", y);\n",
    "\n",
    "just_print(x/p);\n",
    "\n",
    "char namex = 'c';\n",
    "new_paste(name, x); // instead of 2 arguments the variable namex will be passed"
   ]
  },
  {
   "cell_type": "code",
   "execution_count": null,
   "metadata": {},
   "outputs": [],
   "source": [
    "#define YEARS_OLD 12\n",
    "#ifndef YEARS_OLD\n",
    "#define YEARS_OLD 10\n",
    "#endif\n",
    "\n",
    "printf(\"%d\", YEARS_OLD);"
   ]
  },
  {
   "cell_type": "markdown",
   "metadata": {},
   "source": [
    "### POINTER AND ARRAYS"
   ]
  },
  {
   "cell_type": "code",
   "execution_count": null,
   "metadata": {},
   "outputs": [],
   "source": [
    "int a = 1;\n",
    "int *p = &a;\n",
    "int b = *p;\n",
    "printf(\"%d\\n\", b);`\n",
    "printf(\"%d\\n\", *p);\n",
    "printf(\"%p\\n\", &p); // prints address of a pointer no a variable\n",
    "printf(\"%p\\n\", &a); // prints address of a variable\n",
    "printf(\"%p\\n\", p);  // still print address of a variable that pointer is pointing to\n",
    "\n",
    "int *g = 0;\n",
    "printf(\"%pb\\n\", g);\n",
    "printf(\"%p\\n\", &g);\n"
   ]
  },
  {
   "cell_type": "code",
   "execution_count": 26,
   "metadata": {},
   "outputs": [
    {
     "name": "stderr",
     "output_type": "stream",
     "text": [
      "\u001b[1minput_line_33:3:5: \u001b[0m\u001b[0;1;31merror: \u001b[0m\u001b[1muse of undeclared identifier 'getch'\u001b[0m\n",
      "    getch();\n",
      "\u001b[0;1;32m    ^\n",
      "\u001b[0m"
     ]
    },
    {
     "ename": "Interpreter Error",
     "evalue": "",
     "output_type": "error",
     "traceback": [
      "Interpreter Error: "
     ]
    }
   ],
   "source": []
  },
  {
   "cell_type": "code",
   "execution_count": null,
   "metadata": {},
   "outputs": [],
   "source": []
  }
 ],
 "metadata": {
  "kernelspec": {
   "display_name": "C++11",
   "language": "C++11",
   "name": "xcpp11"
  },
  "language_info": {
   "codemirror_mode": "text/x-c++src",
   "file_extension": ".cpp",
   "mimetype": "text/x-c++src",
   "name": "c++",
   "version": "11"
  }
 },
 "nbformat": 4,
 "nbformat_minor": 4
}
