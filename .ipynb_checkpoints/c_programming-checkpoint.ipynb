{
 "cells": [
  {
   "cell_type": "markdown",
   "metadata": {},
   "source": [
    "# C Programming"
   ]
  },
  {
   "cell_type": "markdown",
   "metadata": {},
   "source": [
    "### Passing by reference"
   ]
  },
  {
   "cell_type": "markdown",
   "metadata": {},
   "source": [
    ">When a variable is passed to a function, it is always passed by value. That is, the variable is copied to the formal parameter of the function argument list. As a result, any changes made to the local variables within the function will not affect the variables of the calling function. For example, the following code to swap two variables will not work as intended."
   ]
  },
  {
   "cell_type": "code",
   "execution_count": null,
   "metadata": {},
   "outputs": [],
   "source": [
    "void swap(int x, int y)\n",
    "{\n",
    "    int tmp = x;\n",
    "    x = y;\n",
    "    y = tmp;\n",
    "}"
   ]
  },
  {
   "cell_type": "markdown",
   "metadata": {},
   "source": [
    ">The variables x and y are different to a and b; they are stored at different addresses, and are simply initialised with the values of a and b.\n",
    "The desired effect of this function can be achieved by using pointers. Pointers, as with any other variable, are passed by value, but their values are addresses which, when copied, still point to the original variables."
   ]
  },
  {
   "cell_type": "code",
   "execution_count": 7,
   "metadata": {},
   "outputs": [
    {
     "name": "stdout",
     "output_type": "stream",
     "text": [
      "2 1"
     ]
    },
    {
     "data": {
      "text/plain": [
       "3"
      ]
     },
     "execution_count": 7,
     "metadata": {},
     "output_type": "execute_result"
    }
   ],
   "source": [
    "void swap(int* px, int* py)\n",
    "{\n",
    "    int tmp = *px;\n",
    "    *px = *py;\n",
    "    *py = tmp;\n",
    "    \n",
    "}\n",
    "\n",
    "int a = 1;\n",
    "int b = 2;\n",
    "    \n",
    "swap(&a, &b);\n",
    "printf(\"%d %d\", a, b)"
   ]
  },
  {
   "cell_type": "markdown",
   "metadata": {},
   "source": [
    ">Pointers provide indirect access to variables. This is why the * operator is called the indirection operator. Passing pointers as function arguments, therefore, is known as “pass-by-reference”. Pass by reference semantics is useful for implementing functions, such as swap() above, that require multiple return values. It is also useful as a mechanism to avoid copying large objects between functions; rather than make a copy of a large object, it is sufficient to pass a pointer to the object. (Arrays are a good example of this and, in C, arrays are passed by reference by default. When passed as a function argument, an array name is automatically converted to a pointer to its first element.) It is possible to prevent unwanted change to a pass-by-reference argument by declaring the parameter const. For example,"
   ]
  },
  {
   "cell_type": "code",
   "execution_count": null,
   "metadata": {},
   "outputs": [],
   "source": [
    "void cannot_change(const double *array, int len)\n",
    "{\n",
    "    int i;\n",
    "    for (i = 0; i < len; ++i) {\n",
    "        //*(array + i) = 3.2;       // Invalid. Pointed-to objects cannot be cahnged\n",
    "        //array[i] = 5.4;           // Invalid\n",
    "        printf(\"%.f\", array[i]);   // Valid\n",
    "    }\n",
    "    printf(\"\\n%p - address in the memory from inside of the function\\n\", (void *)array);\n",
    "}\n",
    "\n",
    "double arr[10];\n",
    "\n",
    "for (int i = 0; i < 10; ++i) {\n",
    "    arr[i] = i;\n",
    "}\n",
    "int len = 10;\n",
    "printf(\"%p - address in memory from outside of the function\\n\", &arr);\n",
    "cannot_change(arr, len);"
   ]
  },
  {
   "cell_type": "markdown",
   "metadata": {},
   "source": [
    ">A const-pointer declaration has two purposes. It enables the compiler to enforce compile-time checks that the passed object is not changed within a function (i.e., it assists in ensuring the function is correct), and it informs the users of a function that the function will not modify the object they pass to it (i.e., it specifiesa “non-modifying” guarantee).\n"
   ]
  },
  {
   "cell_type": "markdown",
   "metadata": {},
   "source": [
    "### Pointers and Arrays"
   ]
  },
  {
   "cell_type": "markdown",
   "metadata": {},
   "source": [
    ">Pointers and arrays are strongly related; so much so that C programmers often assume they are the same thing. This is frequently the case, but not always. Whenever an array name appears in an expression, it is automatically converted to a pointer to its first element."
   ]
  },
  {
   "cell_type": "code",
   "execution_count": null,
   "metadata": {},
   "outputs": [],
   "source": [
    "unsigned buffer[256];\n",
    "buffer[0] = 10;\n",
    "buffer[5] = 20;\n",
    "unsigned *pbuff1 = buffer;          /* Buffer converted to pointer, & not required. */\n",
    "unsigned *pbuff2 = buffer + 5;      /* A \"pointer-plus-offset\" expression. */\n",
    "printf(\"%u %u\", *pbuff1, *pbuff2);"
   ]
  },
  {
   "cell_type": "markdown",
   "metadata": {},
   "source": [
    ">Here pbuff1 points to element 0 of the array, and pbuff2 points to element 5. Similarly, when an array name is passed to a function, it is converted to a pointer. Thus, in the following example, pdouble and darray are equivalent; they are both pointers."
   ]
  },
  {
   "cell_type": "code",
   "execution_count": null,
   "metadata": {},
   "outputs": [],
   "source": [
    "void func(double *pdouble, int len);\n",
    "void func(double darray[], int len);"
   ]
  },
  {
   "cell_type": "markdown",
   "metadata": {},
   "source": [
    ">An array name and a pointer to an array may be used interchangeably in many circumstances, such as array indexing. Consider the following example, where, within each commented group, the statements perform exactly the same operation."
   ]
  },
  {
   "cell_type": "code",
   "execution_count": 6,
   "metadata": {},
   "outputs": [],
   "source": [
    "char letters[26];\n",
    "char *pc1 = letters; /* Equivalent pointer values. */\n",
    "// this is not working ha to change to just 'letters' >>> char *pc2 = &letters;\n",
    "char *pc2 = letters;\n",
    "char *pc3 = &letters[0];\n",
    "\n",
    "letters[4] = 'e'; /* Equivalent indexes. */\n",
    "pc1[4] = 'e';\n",
    "*(letters + 4) = 'e';\n",
    "*(pc2 + 4) = 'e';\n",
    "\n",
    "pc3 = &letters[10]; /* Equivalent addresses. */\n",
    "pc3 = &pc1[10];\n",
    "pc3 = letters + 10;\n",
    "pc3 = pc2 + 10;"
   ]
  },
  {
   "cell_type": "markdown",
   "metadata": {},
   "source": [
    ">Notice that, for an array, its name (e.g., letters) when used in an expression is equivalent to its address (e.g., &letters), which is equal to the address of its first element (e.g., &letters[0]). The elements of an array can be accessed via the index operator (e.g., pc1[4]) or by a dereferenced pointer offset (e.g., *(pc2 + 4)). And the address of an array element can be obtained using the address-of operator (e.g., &letters[10]) or directly from the pointer offset (e.g., letters + 10). However, an array is not equivalent to a pointer, and there are several important differences. First, an array is not a variable; its value cannot be changed."
   ]
  }
 ],
 "metadata": {
  "kernelspec": {
   "display_name": "C++11",
   "language": "C++11",
   "name": "xcpp11"
  },
  "language_info": {
   "codemirror_mode": "text/x-c++src",
   "file_extension": ".cpp",
   "mimetype": "text/x-c++src",
   "name": "c++",
   "version": "11"
  }
 },
 "nbformat": 4,
 "nbformat_minor": 4
}
